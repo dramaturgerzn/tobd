{
 "cells": [
  {
   "cell_type": "markdown",
   "id": "499a69b7",
   "metadata": {},
   "source": [
    "# Лабораторная работа 14"
   ]
  },
  {
   "cell_type": "code",
   "execution_count": 2,
   "id": "816bcbfc",
   "metadata": {},
   "outputs": [],
   "source": [
    "from bs4 import BeautifulSoup\n",
    "import time\n",
    "import random\n",
    "from dask import delayed, compute\n",
    "import dask.bag as db\n",
    "import dask.dataframe as dd"
   ]
  },
  {
   "cell_type": "markdown",
   "id": "ce7b205d",
   "metadata": {},
   "source": [
    "## Задачи для совместного разбора"
   ]
  },
  {
   "cell_type": "markdown",
   "id": "ff0ac9a0",
   "metadata": {},
   "source": [
    "1. Напишите 2 функции, имитирующие CPU-bound задачу и IO-bound задачу:\n",
    "\n",
    "`cpu_task()`: генерирует 100 тыс. случайных чисел и возвращает их сумму (без использования `numpy`)\n",
    "\n",
    "`io_task()`: \"спит\" 0.1 сек, затем генерирует случайное число и возвращает его\n",
    "\n",
    "Замерьте время выполнения 100 последовательных вызовов каждой из этих функций. Распараллелив вычисления при помощи `dask.delayed`, сократите время выполнения. Исследуйте, как зависит время вычислений от выбранного планировщика `scheduler`."
   ]
  },
  {
   "cell_type": "code",
   "execution_count": 3,
   "id": "b2f1842c",
   "metadata": {},
   "outputs": [],
   "source": [
    "def cpu_task():\n",
    "    return sum([random.randint(0,10) for _ in range(100_000)])\n"
   ]
  },
  {
   "cell_type": "code",
   "execution_count": 4,
   "id": "09f1e9e0",
   "metadata": {},
   "outputs": [],
   "source": [
    "def io_task():\n",
    "    time.sleep(0.1)\n",
    "    return random.randint(0, 10)"
   ]
  },
  {
   "cell_type": "code",
   "execution_count": 5,
   "id": "40352b25",
   "metadata": {},
   "outputs": [
    {
     "name": "stdout",
     "output_type": "stream",
     "text": [
      "Wall time: 12 s\n"
     ]
    }
   ],
   "source": [
    "%%time\n",
    "res =[cpu_task() for _ in range(100)]"
   ]
  },
  {
   "cell_type": "code",
   "execution_count": 6,
   "id": "272421a6",
   "metadata": {},
   "outputs": [
    {
     "name": "stdout",
     "output_type": "stream",
     "text": [
      "Wall time: 10.8 s\n"
     ]
    }
   ],
   "source": [
    "%%time\n",
    "res =[io_task() for _ in range(100)]"
   ]
  },
  {
   "cell_type": "code",
   "execution_count": 8,
   "id": "f3d7e92b",
   "metadata": {},
   "outputs": [],
   "source": [
    "cpu_task_delayed = delayed(cpu_task)"
   ]
  },
  {
   "cell_type": "code",
   "execution_count": 9,
   "id": "39247fa1",
   "metadata": {},
   "outputs": [
    {
     "data": {
      "text/plain": [
       "501086"
      ]
     },
     "execution_count": 9,
     "metadata": {},
     "output_type": "execute_result"
    }
   ],
   "source": [
    "cpu_task_delayed().compute()"
   ]
  },
  {
   "cell_type": "code",
   "execution_count": 11,
   "id": "617b2c41",
   "metadata": {},
   "outputs": [],
   "source": [
    "io_task_delayed = delayed(io_task)"
   ]
  },
  {
   "cell_type": "code",
   "execution_count": 22,
   "id": "16fe9228",
   "metadata": {},
   "outputs": [
    {
     "name": "stdout",
     "output_type": "stream",
     "text": [
      "Wall time: 2.53 s\n"
     ]
    }
   ],
   "source": [
    "%%time\n",
    "res =[io_task_delayed() for _ in range(100)]\n",
    "res = compute(res, scheduler='multiprocessing')"
   ]
  },
  {
   "cell_type": "code",
   "execution_count": 21,
   "id": "ee4ae986",
   "metadata": {},
   "outputs": [
    {
     "name": "stdout",
     "output_type": "stream",
     "text": [
      "Wall time: 1.02 s\n"
     ]
    }
   ],
   "source": [
    "%%time\n",
    "res =[io_task_delayed() for _ in range(100)]\n",
    "res = compute(res, scheduler='threading')"
   ]
  },
  {
   "cell_type": "markdown",
   "id": "9a331c04",
   "metadata": {},
   "source": [
    "### Задание 1\n",
    "Напишите функцию, которая считывает файл формата xml из \n",
    "каталога reviewers_full и по данным этого файла формирует список словарей, \n",
    "содержащих следующие \n",
    "ключи: id, username, name, sex, country, mail, registered, birthdate, name_prefix, coun\n",
    "try_code. Часть из этих значений в исходном файле хранится в виде тэгов, часть - в \n",
    "виде атрибутов тэгов. Для конкретного человека какие-то из этих ключей могут \n",
    "отсутствовать."
   ]
  },
  {
   "cell_type": "code",
   "execution_count": 3,
   "id": "d66ebad6",
   "metadata": {},
   "outputs": [],
   "source": [
    "def parse_xml(n):\n",
    "    with open(f'reviewers_full/reviewers_full_{n}.xml', 'r', encoding='utf8') as fp:\n",
    "        data = BeautifulSoup(fp, 'xml')\n",
    "    revs_lst = []\n",
    "    for user in data.find_all('user'):\n",
    "        rev_dic = {}\n",
    "        if (user.find('username')):\n",
    "            rev_dic['username'] = user.username.text\n",
    "        if (user.find('id')):\n",
    "            rev_dic['id'] = user.id.text\n",
    "        if (user.find('name')):\n",
    "            rev_dic['name'] = user.find('name').text\n",
    "        if (user.find('sex')):\n",
    "            rev_dic['sex'] = user.sex.text\n",
    "        if (user.find('country')):\n",
    "            rev_dic['country'] = user.country.text\n",
    "            if ('code' in user.country.attrs.keys()):\n",
    "                rev_dic['country_code'] = user.country.attrs['code']\n",
    "        if (user.find('mail')):\n",
    "            rev_dic['mail'] = user.mail.text\n",
    "        if (user.find('registered')):\n",
    "            rev_dic['registered'] = user.registered.text\n",
    "        if (user.find('birthdate')):\n",
    "            rev_dic['birthdate'] = user.birthdate.text\n",
    "        if ('name_prefix' in user.attrs.keys()):\n",
    "            rev_dic['name_prefix'] = user.attrs.prefix\n",
    "        revs_lst.append(rev_dic)\n",
    "    return revs_lst"
   ]
  },
  {
   "cell_type": "markdown",
   "id": "d0cbba5a",
   "metadata": {},
   "source": [
    "### Задание 2\n",
    "Измерьте время выполнения функции из задания 1 на всех файлах из архива. Ускорьте время выполнения, используя dask.delayed"
   ]
  },
  {
   "cell_type": "code",
   "execution_count": 4,
   "id": "3c12acce",
   "metadata": {},
   "outputs": [
    {
     "name": "stdout",
     "output_type": "stream",
     "text": [
      "Wall time: 1min 42s\n"
     ]
    }
   ],
   "source": [
    "%%time\n",
    "res = [parse_xml(i) for i in range(5)]"
   ]
  },
  {
   "cell_type": "code",
   "execution_count": 5,
   "id": "c9194836",
   "metadata": {},
   "outputs": [
    {
     "data": {
      "text/plain": [
       "{'username': 'anthony04',\n",
       " 'id': '2001635758',\n",
       " 'sex': 'M',\n",
       " 'registered': '2001-11-05',\n",
       " 'birthdate': '1990-08-16'}"
      ]
     },
     "execution_count": 5,
     "metadata": {},
     "output_type": "execute_result"
    }
   ],
   "source": [
    "res[4][-1]"
   ]
  },
  {
   "cell_type": "code",
   "execution_count": 6,
   "id": "1761aa4a",
   "metadata": {},
   "outputs": [],
   "source": [
    "parse_xml_delayed = delayed(parse_xml)"
   ]
  },
  {
   "cell_type": "code",
   "execution_count": 7,
   "id": "147c5cad",
   "metadata": {},
   "outputs": [
    {
     "name": "stdout",
     "output_type": "stream",
     "text": [
      "Wall time: 1min 37s\n"
     ]
    }
   ],
   "source": [
    "%%time\n",
    "res = [parse_xml_delayed(i) for i in range(5)]\n",
    "res = compute(res, scheduler='multiprocessing')"
   ]
  },
  {
   "cell_type": "code",
   "execution_count": 8,
   "id": "e204de8c",
   "metadata": {},
   "outputs": [
    {
     "data": {
      "text/plain": [
       "{'username': 'anthony04',\n",
       " 'id': '2001635758',\n",
       " 'sex': 'M',\n",
       " 'registered': '2001-11-05',\n",
       " 'birthdate': '1990-08-16'}"
      ]
     },
     "execution_count": 8,
     "metadata": {},
     "output_type": "execute_result"
    }
   ],
   "source": [
    "res[0][4][-1]"
   ]
  },
  {
   "cell_type": "markdown",
   "id": "ecece415",
   "metadata": {},
   "source": [
    "### Задание 3\n",
    "Задекорируйте функцию из задания 1 при помощи dask.delayed и создайте список reviewers, состоящий из 5 объектов delayed (по одному объекту на файл). Из списка объектов delayed, создайте dask.bag при помощи метода db.from_delayed. Добавьте ключ birth_year, в котором хранится год рождения человека. Оставьте в выборке только тех людей, которые наверняка моложе 1980 года. Преобразуйте поле id к целому типу."
   ]
  },
  {
   "cell_type": "code",
   "execution_count": 9,
   "id": "710f397e",
   "metadata": {},
   "outputs": [
    {
     "data": {
      "text/plain": [
       "[Delayed('parse_xml-f3d432ea-ac2b-4791-b75d-b55362358321'),\n",
       " Delayed('parse_xml-af578e31-e75f-4d34-9026-33ba53c46a39'),\n",
       " Delayed('parse_xml-097bb2a0-d1ae-42b2-a753-e682a0057c70'),\n",
       " Delayed('parse_xml-a6d299b3-c816-4452-bfec-dbbc77d5af9a'),\n",
       " Delayed('parse_xml-05223848-7621-4a8b-b4a9-0c31592adcb3')]"
      ]
     },
     "execution_count": 9,
     "metadata": {},
     "output_type": "execute_result"
    }
   ],
   "source": [
    "reviewers = [parse_xml_delayed(i) for i in range(5)]\n",
    "reviewers"
   ]
  },
  {
   "cell_type": "code",
   "execution_count": 10,
   "id": "66490669",
   "metadata": {},
   "outputs": [],
   "source": [
    "reviewers_bag = db.from_delayed(reviewers)"
   ]
  },
  {
   "cell_type": "code",
   "execution_count": 11,
   "id": "9924b986",
   "metadata": {},
   "outputs": [],
   "source": [
    "def preproc(reviewer):\n",
    "    reviewer['id'] = int(reviewer['id'])\n",
    "    if ('birthdate' in reviewer.keys()):\n",
    "        reviewer['birth_year'] = int(reviewer['birthdate'][:4])\n",
    "        if reviewer['birth_year'] < 1980:\n",
    "            return\n",
    "    return reviewer"
   ]
  },
  {
   "cell_type": "code",
   "execution_count": 12,
   "id": "fc063c39",
   "metadata": {},
   "outputs": [],
   "source": [
    "proc_bag = reviewers_bag.map(preproc).filter(bool)"
   ]
  },
  {
   "cell_type": "code",
   "execution_count": 13,
   "id": "bb04cf99",
   "metadata": {},
   "outputs": [],
   "source": [
    "proc_bag_res = proc_bag.compute()"
   ]
  },
  {
   "cell_type": "code",
   "execution_count": 14,
   "id": "661d1733",
   "metadata": {},
   "outputs": [
    {
     "data": {
      "text/plain": [
       "{'username': 'gabrielacalhoun',\n",
       " 'id': 556011,\n",
       " 'sex': 'F',\n",
       " 'birthdate': '1988-01-25',\n",
       " 'birth_year': 1988}"
      ]
     },
     "execution_count": 14,
     "metadata": {},
     "output_type": "execute_result"
    }
   ],
   "source": [
    "proc_bag_res[0]"
   ]
  },
  {
   "cell_type": "markdown",
   "id": "66db0515",
   "metadata": {},
   "source": [
    "### Задание 4\n",
    "Из dask.bag, полученного в задании 3, создайте dask.dataframe при помощи метода bag.to_dataframe. Укажите столбец id в качестве индекса."
   ]
  },
  {
   "cell_type": "code",
   "execution_count": 15,
   "id": "fde57e0b",
   "metadata": {},
   "outputs": [],
   "source": [
    "reviewers_dd = proc_bag.to_dataframe(meta={'id':'int64','username': 'object', 'name': 'object', 'sex': 'object', 'country': 'object', 'mail': 'object', 'registered':'datetime64[ns]', 'birthdate':'datetime64[ns]', 'name_prefix': 'object', 'country_code': 'object', 'birth_year': 'float64'})"
   ]
  },
  {
   "cell_type": "code",
   "execution_count": 19,
   "id": "09847a35",
   "metadata": {},
   "outputs": [],
   "source": [
    "reviewers_dd = reviewers_dd.set_index('id')"
   ]
  },
  {
   "cell_type": "code",
   "execution_count": 17,
   "id": "ba2ed891",
   "metadata": {},
   "outputs": [
    {
     "data": {
      "text/html": [
       "<div>\n",
       "<style scoped>\n",
       "    .dataframe tbody tr th:only-of-type {\n",
       "        vertical-align: middle;\n",
       "    }\n",
       "\n",
       "    .dataframe tbody tr th {\n",
       "        vertical-align: top;\n",
       "    }\n",
       "\n",
       "    .dataframe thead th {\n",
       "        text-align: right;\n",
       "    }\n",
       "</style>\n",
       "<table border=\"1\" class=\"dataframe\">\n",
       "  <thead>\n",
       "    <tr style=\"text-align: right;\">\n",
       "      <th></th>\n",
       "      <th>username</th>\n",
       "      <th>name</th>\n",
       "      <th>sex</th>\n",
       "      <th>country</th>\n",
       "      <th>mail</th>\n",
       "      <th>registered</th>\n",
       "      <th>birthdate</th>\n",
       "      <th>name_prefix</th>\n",
       "      <th>country_code</th>\n",
       "      <th>birth_year</th>\n",
       "    </tr>\n",
       "    <tr>\n",
       "      <th>id</th>\n",
       "      <th></th>\n",
       "      <th></th>\n",
       "      <th></th>\n",
       "      <th></th>\n",
       "      <th></th>\n",
       "      <th></th>\n",
       "      <th></th>\n",
       "      <th></th>\n",
       "      <th></th>\n",
       "      <th></th>\n",
       "    </tr>\n",
       "  </thead>\n",
       "  <tbody>\n",
       "    <tr>\n",
       "      <th>1535</th>\n",
       "      <td>gina35</td>\n",
       "      <td>Robert Graham</td>\n",
       "      <td>NaN</td>\n",
       "      <td>Algeria</td>\n",
       "      <td>NaN</td>\n",
       "      <td>NaT</td>\n",
       "      <td>NaT</td>\n",
       "      <td>NaN</td>\n",
       "      <td>DZ</td>\n",
       "      <td>NaN</td>\n",
       "    </tr>\n",
       "    <tr>\n",
       "      <th>1581</th>\n",
       "      <td>ehenry</td>\n",
       "      <td>Scott Burton</td>\n",
       "      <td>NaN</td>\n",
       "      <td>NaN</td>\n",
       "      <td>salazardiana@gmail.com</td>\n",
       "      <td>2007-01-07</td>\n",
       "      <td>NaT</td>\n",
       "      <td>NaN</td>\n",
       "      <td>NaN</td>\n",
       "      <td>NaN</td>\n",
       "    </tr>\n",
       "    <tr>\n",
       "      <th>1634</th>\n",
       "      <td>pughdawn</td>\n",
       "      <td>Connor Ibarra</td>\n",
       "      <td>NaN</td>\n",
       "      <td>Angola</td>\n",
       "      <td>NaN</td>\n",
       "      <td>2019-07-03</td>\n",
       "      <td>NaT</td>\n",
       "      <td>NaN</td>\n",
       "      <td>AO</td>\n",
       "      <td>NaN</td>\n",
       "    </tr>\n",
       "    <tr>\n",
       "      <th>1676</th>\n",
       "      <td>lgeorge</td>\n",
       "      <td>NaN</td>\n",
       "      <td>M</td>\n",
       "      <td>NaN</td>\n",
       "      <td>NaN</td>\n",
       "      <td>NaT</td>\n",
       "      <td>1983-06-24</td>\n",
       "      <td>NaN</td>\n",
       "      <td>NaN</td>\n",
       "      <td>1983.0</td>\n",
       "    </tr>\n",
       "    <tr>\n",
       "      <th>1755</th>\n",
       "      <td>amycarter</td>\n",
       "      <td>NaN</td>\n",
       "      <td>M</td>\n",
       "      <td>NaN</td>\n",
       "      <td>ybrandt@yahoo.com</td>\n",
       "      <td>NaT</td>\n",
       "      <td>NaT</td>\n",
       "      <td>NaN</td>\n",
       "      <td>NaN</td>\n",
       "      <td>NaN</td>\n",
       "    </tr>\n",
       "  </tbody>\n",
       "</table>\n",
       "</div>"
      ],
      "text/plain": [
       "       username           name  sex  country                    mail  \\\n",
       "id                                                                     \n",
       "1535     gina35  Robert Graham  NaN  Algeria                     NaN   \n",
       "1581     ehenry   Scott Burton  NaN      NaN  salazardiana@gmail.com   \n",
       "1634   pughdawn  Connor Ibarra  NaN   Angola                     NaN   \n",
       "1676    lgeorge            NaN    M      NaN                     NaN   \n",
       "1755  amycarter            NaN    M      NaN       ybrandt@yahoo.com   \n",
       "\n",
       "     registered  birthdate name_prefix country_code  birth_year  \n",
       "id                                                               \n",
       "1535        NaT        NaT         NaN           DZ         NaN  \n",
       "1581 2007-01-07        NaT         NaN          NaN         NaN  \n",
       "1634 2019-07-03        NaT         NaN           AO         NaN  \n",
       "1676        NaT 1983-06-24         NaN          NaN      1983.0  \n",
       "1755        NaT        NaT         NaN          NaN         NaN  "
      ]
     },
     "execution_count": 17,
     "metadata": {},
     "output_type": "execute_result"
    }
   ],
   "source": [
    "reviewers_dd.head()"
   ]
  },
  {
   "cell_type": "markdown",
   "id": "52fa9e43",
   "metadata": {},
   "source": [
    "### Задание 5\n",
    "Назовем отзыв негативным, если оценка равна 0, 1 или 2. Загрузите данные о негативных отзывах из файлов архива reviews_full (ЛР12) в виде dask.DataFrame. Посчитайте количество отзывов с группировкой по пользователю, оставившему отзыв. Объедините результат с таблицей, полученной в задаче 4."
   ]
  },
  {
   "cell_type": "code",
   "execution_count": 20,
   "id": "88e6d9b6",
   "metadata": {},
   "outputs": [],
   "source": [
    "neg_revs = dd.read_json(['./reviews_full/reviews_0.json','./reviews_full/reviews_1.json','./reviews_full/reviews_2.json'])  "
   ]
  },
  {
   "cell_type": "code",
   "execution_count": 21,
   "id": "7f8aa871",
   "metadata": {},
   "outputs": [],
   "source": [
    "neg_revs_gr = neg_revs.groupby('user_id').recipe_id.count()"
   ]
  },
  {
   "cell_type": "code",
   "execution_count": 22,
   "id": "2ab24743",
   "metadata": {},
   "outputs": [
    {
     "data": {
      "text/html": [
       "<div><strong>Dask DataFrame Structure:</strong></div>\n",
       "<div>\n",
       "<style scoped>\n",
       "    .dataframe tbody tr th:only-of-type {\n",
       "        vertical-align: middle;\n",
       "    }\n",
       "\n",
       "    .dataframe tbody tr th {\n",
       "        vertical-align: top;\n",
       "    }\n",
       "\n",
       "    .dataframe thead th {\n",
       "        text-align: right;\n",
       "    }\n",
       "</style>\n",
       "<table border=\"1\" class=\"dataframe\">\n",
       "  <thead>\n",
       "    <tr style=\"text-align: right;\">\n",
       "      <th></th>\n",
       "      <th>n_recipes</th>\n",
       "    </tr>\n",
       "    <tr>\n",
       "      <th>npartitions=1</th>\n",
       "      <th></th>\n",
       "    </tr>\n",
       "  </thead>\n",
       "  <tbody>\n",
       "    <tr>\n",
       "      <th></th>\n",
       "      <td>int64</td>\n",
       "    </tr>\n",
       "    <tr>\n",
       "      <th></th>\n",
       "      <td>...</td>\n",
       "    </tr>\n",
       "  </tbody>\n",
       "</table>\n",
       "</div>\n",
       "<div>Dask Name: to_frame, 11 tasks</div>"
      ],
      "text/plain": [
       "Dask DataFrame Structure:\n",
       "              n_recipes\n",
       "npartitions=1          \n",
       "                  int64\n",
       "                    ...\n",
       "Dask Name: to_frame, 11 tasks"
      ]
     },
     "execution_count": 22,
     "metadata": {},
     "output_type": "execute_result"
    }
   ],
   "source": [
    "neg_revs_dd = neg_revs_gr.to_frame(name='n_recipes')\n",
    "neg_revs_dd"
   ]
  },
  {
   "cell_type": "code",
   "execution_count": 23,
   "id": "c9c32237",
   "metadata": {},
   "outputs": [
    {
     "data": {
      "text/html": [
       "<div>\n",
       "<style scoped>\n",
       "    .dataframe tbody tr th:only-of-type {\n",
       "        vertical-align: middle;\n",
       "    }\n",
       "\n",
       "    .dataframe tbody tr th {\n",
       "        vertical-align: top;\n",
       "    }\n",
       "\n",
       "    .dataframe thead th {\n",
       "        text-align: right;\n",
       "    }\n",
       "</style>\n",
       "<table border=\"1\" class=\"dataframe\">\n",
       "  <thead>\n",
       "    <tr style=\"text-align: right;\">\n",
       "      <th></th>\n",
       "      <th>n_recipes</th>\n",
       "    </tr>\n",
       "    <tr>\n",
       "      <th>user_id</th>\n",
       "      <th></th>\n",
       "    </tr>\n",
       "  </thead>\n",
       "  <tbody>\n",
       "    <tr>\n",
       "      <th>1533</th>\n",
       "      <td>64</td>\n",
       "    </tr>\n",
       "    <tr>\n",
       "      <th>1535</th>\n",
       "      <td>441</td>\n",
       "    </tr>\n",
       "    <tr>\n",
       "      <th>1634</th>\n",
       "      <td>36</td>\n",
       "    </tr>\n",
       "    <tr>\n",
       "      <th>1676</th>\n",
       "      <td>29</td>\n",
       "    </tr>\n",
       "    <tr>\n",
       "      <th>1755</th>\n",
       "      <td>4</td>\n",
       "    </tr>\n",
       "    <tr>\n",
       "      <th>...</th>\n",
       "      <td>...</td>\n",
       "    </tr>\n",
       "    <tr>\n",
       "      <th>2002366476</th>\n",
       "      <td>1</td>\n",
       "    </tr>\n",
       "    <tr>\n",
       "      <th>2002368940</th>\n",
       "      <td>1</td>\n",
       "    </tr>\n",
       "    <tr>\n",
       "      <th>2002369279</th>\n",
       "      <td>1</td>\n",
       "    </tr>\n",
       "    <tr>\n",
       "      <th>2002369650</th>\n",
       "      <td>1</td>\n",
       "    </tr>\n",
       "    <tr>\n",
       "      <th>2002372706</th>\n",
       "      <td>1</td>\n",
       "    </tr>\n",
       "  </tbody>\n",
       "</table>\n",
       "<p>145069 rows × 1 columns</p>\n",
       "</div>"
      ],
      "text/plain": [
       "            n_recipes\n",
       "user_id              \n",
       "1533               64\n",
       "1535              441\n",
       "1634               36\n",
       "1676               29\n",
       "1755                4\n",
       "...               ...\n",
       "2002366476          1\n",
       "2002368940          1\n",
       "2002369279          1\n",
       "2002369650          1\n",
       "2002372706          1\n",
       "\n",
       "[145069 rows x 1 columns]"
      ]
     },
     "execution_count": 23,
     "metadata": {},
     "output_type": "execute_result"
    }
   ],
   "source": [
    "neg_revs_dd.compute()"
   ]
  },
  {
   "cell_type": "code",
   "execution_count": 24,
   "id": "cb105af6",
   "metadata": {},
   "outputs": [],
   "source": [
    "reviewers_dd_merged = reviewers_dd.merge(neg_revs_dd, 'left', left_index=True, right_index=True)"
   ]
  },
  {
   "cell_type": "code",
   "execution_count": 25,
   "id": "0a787a27",
   "metadata": {},
   "outputs": [
    {
     "data": {
      "text/html": [
       "<div>\n",
       "<style scoped>\n",
       "    .dataframe tbody tr th:only-of-type {\n",
       "        vertical-align: middle;\n",
       "    }\n",
       "\n",
       "    .dataframe tbody tr th {\n",
       "        vertical-align: top;\n",
       "    }\n",
       "\n",
       "    .dataframe thead th {\n",
       "        text-align: right;\n",
       "    }\n",
       "</style>\n",
       "<table border=\"1\" class=\"dataframe\">\n",
       "  <thead>\n",
       "    <tr style=\"text-align: right;\">\n",
       "      <th></th>\n",
       "      <th>username</th>\n",
       "      <th>name</th>\n",
       "      <th>sex</th>\n",
       "      <th>country</th>\n",
       "      <th>mail</th>\n",
       "      <th>registered</th>\n",
       "      <th>birthdate</th>\n",
       "      <th>name_prefix</th>\n",
       "      <th>country_code</th>\n",
       "      <th>birth_year</th>\n",
       "      <th>n_recipes</th>\n",
       "    </tr>\n",
       "    <tr>\n",
       "      <th>id</th>\n",
       "      <th></th>\n",
       "      <th></th>\n",
       "      <th></th>\n",
       "      <th></th>\n",
       "      <th></th>\n",
       "      <th></th>\n",
       "      <th></th>\n",
       "      <th></th>\n",
       "      <th></th>\n",
       "      <th></th>\n",
       "      <th></th>\n",
       "    </tr>\n",
       "  </thead>\n",
       "  <tbody>\n",
       "    <tr>\n",
       "      <th>1535</th>\n",
       "      <td>gina35</td>\n",
       "      <td>Robert Graham</td>\n",
       "      <td>NaN</td>\n",
       "      <td>Algeria</td>\n",
       "      <td>NaN</td>\n",
       "      <td>NaT</td>\n",
       "      <td>NaT</td>\n",
       "      <td>NaN</td>\n",
       "      <td>DZ</td>\n",
       "      <td>NaN</td>\n",
       "      <td>441.0</td>\n",
       "    </tr>\n",
       "    <tr>\n",
       "      <th>1581</th>\n",
       "      <td>ehenry</td>\n",
       "      <td>Scott Burton</td>\n",
       "      <td>NaN</td>\n",
       "      <td>NaN</td>\n",
       "      <td>salazardiana@gmail.com</td>\n",
       "      <td>2007-01-07</td>\n",
       "      <td>NaT</td>\n",
       "      <td>NaN</td>\n",
       "      <td>NaN</td>\n",
       "      <td>NaN</td>\n",
       "      <td>1.0</td>\n",
       "    </tr>\n",
       "    <tr>\n",
       "      <th>1634</th>\n",
       "      <td>pughdawn</td>\n",
       "      <td>Connor Ibarra</td>\n",
       "      <td>NaN</td>\n",
       "      <td>Angola</td>\n",
       "      <td>NaN</td>\n",
       "      <td>2019-07-03</td>\n",
       "      <td>NaT</td>\n",
       "      <td>NaN</td>\n",
       "      <td>AO</td>\n",
       "      <td>NaN</td>\n",
       "      <td>36.0</td>\n",
       "    </tr>\n",
       "    <tr>\n",
       "      <th>1676</th>\n",
       "      <td>lgeorge</td>\n",
       "      <td>NaN</td>\n",
       "      <td>M</td>\n",
       "      <td>NaN</td>\n",
       "      <td>NaN</td>\n",
       "      <td>NaT</td>\n",
       "      <td>1983-06-24</td>\n",
       "      <td>NaN</td>\n",
       "      <td>NaN</td>\n",
       "      <td>1983.0</td>\n",
       "      <td>29.0</td>\n",
       "    </tr>\n",
       "    <tr>\n",
       "      <th>1755</th>\n",
       "      <td>amycarter</td>\n",
       "      <td>NaN</td>\n",
       "      <td>M</td>\n",
       "      <td>NaN</td>\n",
       "      <td>ybrandt@yahoo.com</td>\n",
       "      <td>NaT</td>\n",
       "      <td>NaT</td>\n",
       "      <td>NaN</td>\n",
       "      <td>NaN</td>\n",
       "      <td>NaN</td>\n",
       "      <td>4.0</td>\n",
       "    </tr>\n",
       "  </tbody>\n",
       "</table>\n",
       "</div>"
      ],
      "text/plain": [
       "       username           name  sex  country                    mail  \\\n",
       "id                                                                     \n",
       "1535     gina35  Robert Graham  NaN  Algeria                     NaN   \n",
       "1581     ehenry   Scott Burton  NaN      NaN  salazardiana@gmail.com   \n",
       "1634   pughdawn  Connor Ibarra  NaN   Angola                     NaN   \n",
       "1676    lgeorge            NaN    M      NaN                     NaN   \n",
       "1755  amycarter            NaN    M      NaN       ybrandt@yahoo.com   \n",
       "\n",
       "     registered  birthdate name_prefix country_code  birth_year  n_recipes  \n",
       "id                                                                          \n",
       "1535        NaT        NaT         NaN           DZ         NaN      441.0  \n",
       "1581 2007-01-07        NaT         NaN          NaN         NaN        1.0  \n",
       "1634 2019-07-03        NaT         NaN           AO         NaN       36.0  \n",
       "1676        NaT 1983-06-24         NaN          NaN      1983.0       29.0  \n",
       "1755        NaT        NaT         NaN          NaN         NaN        4.0  "
      ]
     },
     "execution_count": 25,
     "metadata": {},
     "output_type": "execute_result"
    }
   ],
   "source": [
    "reviewers_dd_merged.head()"
   ]
  }
 ],
 "metadata": {
  "kernelspec": {
   "display_name": "Python 3 (ipykernel)",
   "language": "python",
   "name": "python3"
  },
  "language_info": {
   "codemirror_mode": {
    "name": "ipython",
    "version": 3
   },
   "file_extension": ".py",
   "mimetype": "text/x-python",
   "name": "python",
   "nbconvert_exporter": "python",
   "pygments_lexer": "ipython3",
   "version": "3.9.13"
  }
 },
 "nbformat": 4,
 "nbformat_minor": 5
}
