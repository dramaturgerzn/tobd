{
 "cells": [
  {
   "cell_type": "markdown",
   "metadata": {},
   "source": [
    "# Numpy"
   ]
  },
  {
   "cell_type": "markdown",
   "metadata": {},
   "source": [
    "Материалы:\n",
    "* Макрушин С.В. \"Лекция 1: Библиотека Numpy\"\n",
    "* https://numpy.org/doc/stable/user/index.html\n",
    "* https://numpy.org/doc/stable/reference/index.html"
   ]
  },
  {
   "cell_type": "markdown",
   "metadata": {},
   "source": [
    "## Задачи для совместного разбора"
   ]
  },
  {
   "cell_type": "markdown",
   "metadata": {},
   "source": [
    "1. Сгенерировать двухмерный массив `arr` размерности (4, 7), состоящий из случайных действительных чисел, равномерно распределенных в диапазоне от 0 до 20. Нормализовать значения массива с помощью преобразования вида  $𝑎𝑥+𝑏$  так, что после нормализации максимальный элемент масcива будет равен 1.0, минимальный 0.0"
   ]
  },
  {
   "cell_type": "code",
   "execution_count": 4,
   "metadata": {},
   "outputs": [
    {
     "data": {
      "text/plain": [
       "array([[0.        , 0.03703704, 0.07407407, 0.11111111, 0.14814815,\n",
       "        0.18518519, 0.22222222],\n",
       "       [0.25925926, 0.2962963 , 0.33333333, 0.37037037, 0.40740741,\n",
       "        0.44444444, 0.48148148],\n",
       "       [0.51851852, 0.55555556, 0.59259259, 0.62962963, 0.66666667,\n",
       "        0.7037037 , 0.74074074],\n",
       "       [0.77777778, 0.81481481, 0.85185185, 0.88888889, 0.92592593,\n",
       "        0.96296296, 1.        ]])"
      ]
     },
     "execution_count": 4,
     "metadata": {},
     "output_type": "execute_result"
    }
   ],
   "source": [
    "import numpy as np\n",
    "arr=np.linspace(0, 20, num=4*7).reshape(4,7)\n",
    "arr/20"
   ]
  },
  {
   "cell_type": "markdown",
   "metadata": {},
   "source": [
    "2. Создать матрицу 8 на 10 из случайных целых (используя модуль `numpy.random`) чисел из диапозона от 0 до 10 и найти в ней строку (ее индекс и вывести саму строку), в которой сумма значений минимальна."
   ]
  },
  {
   "cell_type": "code",
   "execution_count": 5,
   "metadata": {},
   "outputs": [
    {
     "data": {
      "text/plain": [
       "(2, array([1, 3, 7, 1, 8, 4, 5, 0, 6, 0]))"
      ]
     },
     "execution_count": 5,
     "metadata": {},
     "output_type": "execute_result"
    }
   ],
   "source": [
    "a4 =np.random.randint(0,10,(8,10))\n",
    "stroki = a4.sum(axis=1)\n",
    "\n",
    "stroki.argmin(), a4[stroki.argmin()]\n"
   ]
  },
  {
   "cell_type": "code",
   "execution_count": 6,
   "metadata": {},
   "outputs": [
    {
     "data": {
      "text/plain": [
       "array([[9, 1, 4, 6, 3, 6, 0, 2, 2, 5],\n",
       "       [6, 4, 8, 1, 4, 1, 7, 8, 0, 8],\n",
       "       [1, 3, 7, 1, 8, 4, 5, 0, 6, 0],\n",
       "       [8, 2, 2, 4, 7, 3, 4, 9, 6, 9],\n",
       "       [3, 9, 3, 5, 3, 5, 7, 9, 0, 7],\n",
       "       [7, 0, 6, 8, 4, 5, 6, 5, 0, 0],\n",
       "       [4, 6, 2, 1, 1, 6, 3, 9, 6, 9],\n",
       "       [6, 6, 5, 2, 8, 5, 5, 4, 5, 6]])"
      ]
     },
     "execution_count": 6,
     "metadata": {},
     "output_type": "execute_result"
    }
   ],
   "source": [
    "a4"
   ]
  },
  {
   "cell_type": "markdown",
   "metadata": {},
   "source": [
    "3. Найти евклидово расстояние между двумя одномерными векторами одинаковой размерности."
   ]
  },
  {
   "cell_type": "code",
   "execution_count": 7,
   "metadata": {},
   "outputs": [
    {
     "data": {
      "text/plain": [
       "5.196152422706632"
      ]
     },
     "execution_count": 7,
     "metadata": {},
     "output_type": "execute_result"
    }
   ],
   "source": [
    "# Initializing the points\n",
    "point_1 = np.array((0, 0, 0))\n",
    "point_2 = np.array((3, 3, 3))\n",
    "# Get the square of the difference of the 2 vectors\n",
    "square = np.square(point_1 - point_2)\n",
    "# Get the sum of the square\n",
    "sum_square = np.sum(square)\n",
    "# The last step is to get the square root and print the Euclidean distance\n",
    "distance = np.sqrt(sum_square)\n",
    "distance"
   ]
  },
  {
   "cell_type": "code",
   "execution_count": 8,
   "metadata": {},
   "outputs": [
    {
     "data": {
      "text/plain": [
       "5.196152422706632"
      ]
     },
     "execution_count": 8,
     "metadata": {},
     "output_type": "execute_result"
    }
   ],
   "source": [
    "np.linalg.norm(point_1 - point_2)"
   ]
  },
  {
   "cell_type": "markdown",
   "metadata": {},
   "source": [
    "4. Решить матричное уравнение `A*X*B=-C` - найти матрицу `X`. Где `A = [[-1, 2, 4], [-3, 1, 2], [-3, 0, 1]]`, `B=[[3, -1], [2, 1]]`, `C=[[7, 21], [11, 8], [8, 4]]`."
   ]
  },
  {
   "cell_type": "code",
   "execution_count": 9,
   "metadata": {},
   "outputs": [],
   "source": [
    "A = np.matrix([[-1, 2, 4], [-3, 1, 2], [-3, 0, 1]]) \n",
    "B = np.matrix([[3, -1], [2, 1]]) \n",
    "C = np.matrix([[7, 21], [11, 8], [8, 4]])"
   ]
  },
  {
   "cell_type": "code",
   "execution_count": 10,
   "metadata": {},
   "outputs": [
    {
     "data": {
      "text/plain": [
       "matrix([[ 1.00000000e+00,  1.11022302e-15],\n",
       "        [-2.00000000e+00,  1.00000000e+00],\n",
       "        [ 3.00000000e+00, -4.00000000e+00]])"
      ]
     },
     "execution_count": 10,
     "metadata": {},
     "output_type": "execute_result"
    }
   ],
   "source": [
    "np.matmul(np.matmul(np.linalg.inv(A), (-C)), np.linalg.inv(B))"
   ]
  },
  {
   "cell_type": "markdown",
   "metadata": {},
   "source": [
    "## Лабораторная работа №1.1"
   ]
  },
  {
   "cell_type": "markdown",
   "metadata": {},
   "source": [
    "Замечание: при решении данных задач не подразумевается использования циклов или генераторов Python, если в задании не сказано обратного. Решение должно опираться на использования функционала библиотеки `numpy`."
   ]
  },
  {
   "cell_type": "markdown",
   "metadata": {},
   "source": [
    "1. Файл `minutes_n_ingredients.csv` содержит информацию об идентификаторе рецепта, времени его выполнения в минутах и количестве необходимых ингредиентов. Считайте данные из этого файла в виде массива `numpy` типа `int32`, используя `np.loadtxt`. Выведите на экран первые 5 строк массива."
   ]
  },
  {
   "cell_type": "code",
   "execution_count": 11,
   "metadata": {},
   "outputs": [
    {
     "data": {
      "text/plain": [
       "array([[127244,     60,     16],\n",
       "       [ 23891,     25,      7],\n",
       "       [ 94746,     10,      6],\n",
       "       [ 67660,      5,      6],\n",
       "       [157911,     60,     14]])"
      ]
     },
     "execution_count": 11,
     "metadata": {},
     "output_type": "execute_result"
    }
   ],
   "source": [
    "dataset = np.loadtxt(r\"minutes_n_ingredients.csv\", \n",
    "                     delimiter=',', skiprows=1, dtype=np.int32)\n",
    "dataset[:5]"
   ]
  },
  {
   "cell_type": "markdown",
   "metadata": {},
   "source": [
    "2. Вычислите среднее значение, минимум, максимум и медиану по каждому из столбцов, кроме первого."
   ]
  },
  {
   "cell_type": "code",
   "execution_count": 12,
   "metadata": {},
   "outputs": [
    {
     "name": "stdout",
     "output_type": "stream",
     "text": [
      "[2.16010017e+04 9.05528000e+00]\n",
      "[0 1]\n",
      "[2147483647         39]\n",
      "[40.  9.]\n"
     ]
    }
   ],
   "source": [
    "print(dataset[:, 1:].mean(axis=0),\n",
    "      dataset[:, 1:].min(axis=0),\n",
    "      dataset[:, 1:].max(axis=0),\n",
    "      np.median(dataset[:, 1:], axis=0), sep='\\n')"
   ]
  },
  {
   "cell_type": "markdown",
   "metadata": {},
   "source": [
    "3. Ограничьте сверху значения продолжительности выполнения рецепта значением квантиля $q_{0.75}$. "
   ]
  },
  {
   "cell_type": "code",
   "execution_count": 13,
   "metadata": {},
   "outputs": [
    {
     "name": "stdout",
     "output_type": "stream",
     "text": [
      "65.0\n"
     ]
    }
   ],
   "source": [
    "print(np.quantile(dataset[:,1], 0.75))"
   ]
  },
  {
   "cell_type": "markdown",
   "metadata": {},
   "source": [
    "4. Посчитайте, для скольких рецептов указана продолжительность, равная нулю. Замените для таких строк значение в данном столбце на 1."
   ]
  },
  {
   "cell_type": "code",
   "execution_count": 14,
   "metadata": {},
   "outputs": [
    {
     "name": "stdout",
     "output_type": "stream",
     "text": [
      "Число 0 до замены:  479\n",
      "[ 60  25  10 ...  65   5 140]\n",
      "Число 0 после замены:  0\n"
     ]
    }
   ],
   "source": [
    "print(\"Число 0 до замены: \", np.sum(dataset[:,1] == 0))\n",
    "x = np.maximum(dataset[:,1], 1)  \n",
    "print(x)\n",
    "print(\"Число 0 после замены: \", np.sum(x == 0)) #Для проверки правильности"
   ]
  },
  {
   "cell_type": "markdown",
   "metadata": {},
   "source": [
    "5. Посчитайте, сколько уникальных рецептов находится в датасете."
   ]
  },
  {
   "cell_type": "code",
   "execution_count": 15,
   "metadata": {},
   "outputs": [
    {
     "name": "stdout",
     "output_type": "stream",
     "text": [
      "100000\n"
     ]
    }
   ],
   "source": [
    "print(len(np.unique(dataset[:, 0])))"
   ]
  },
  {
   "cell_type": "markdown",
   "metadata": {},
   "source": [
    "6. Сколько и каких различных значений кол-ва ингредиентов присутвует в рецептах из датасета?"
   ]
  },
  {
   "cell_type": "code",
   "execution_count": 16,
   "metadata": {},
   "outputs": [
    {
     "name": "stdout",
     "output_type": "stream",
     "text": [
      "Всего:  100000 \n",
      "Уникальных:  37\n"
     ]
    }
   ],
   "source": [
    "print(\"Всего: \", len(dataset[:, 2]),\"\\nУникальных: \", len(np.unique(dataset[:,2])))"
   ]
  },
  {
   "cell_type": "markdown",
   "metadata": {},
   "source": [
    "## Лабораторная работа №1.2"
   ]
  },
  {
   "cell_type": "markdown",
   "metadata": {},
   "source": [
    "7. Создайте версию массива, содержащую информацию только о рецептах, состоящих не более чем из 5 ингредиентов."
   ]
  },
  {
   "cell_type": "code",
   "execution_count": 29,
   "metadata": {},
   "outputs": [
    {
     "data": {
      "text/plain": [
       "array([[446597,     15,      5],\n",
       "       [204134,      5,      3],\n",
       "       [ 25623,      6,      4],\n",
       "       ...,\n",
       "       [ 52088,     60,      5],\n",
       "       [128811,     15,      4],\n",
       "       [370915,      5,      4]])"
      ]
     },
     "execution_count": 29,
     "metadata": {},
     "output_type": "execute_result"
    }
   ],
   "source": [
    "dataset[dataset[:, 2] <= 5]"
   ]
  },
  {
   "cell_type": "markdown",
   "metadata": {},
   "source": [
    "8. Для каждого рецепта посчитайте, сколько в среднем ингредиентов приходится на одну минуту рецепта. Найдите максимальное значение этой величины для всего датасета"
   ]
  },
  {
   "cell_type": "code",
   "execution_count": 35,
   "metadata": {},
   "outputs": [
    {
     "name": "stderr",
     "output_type": "stream",
     "text": [
      "<ipython-input-35-2b70d81fc300>:1: RuntimeWarning: divide by zero encountered in true_divide\n",
      "  dataset[:, 2] / dataset[:, 1]\n"
     ]
    },
    {
     "data": {
      "text/plain": [
       "array([0.26666667, 0.28      , 0.6       , ..., 0.23076923, 0.8       ,\n",
       "       0.1       ])"
      ]
     },
     "execution_count": 35,
     "metadata": {},
     "output_type": "execute_result"
    }
   ],
   "source": [
    "dataset[:, 2] / dataset[:, 1]"
   ]
  },
  {
   "cell_type": "code",
   "execution_count": 36,
   "metadata": {},
   "outputs": [
    {
     "name": "stderr",
     "output_type": "stream",
     "text": [
      "<ipython-input-36-f9cbba1f35f6>:1: RuntimeWarning: divide by zero encountered in true_divide\n",
      "  (dataset[:, 2] / dataset[:, 1]).max()\n"
     ]
    },
    {
     "data": {
      "text/plain": [
       "inf"
      ]
     },
     "execution_count": 36,
     "metadata": {},
     "output_type": "execute_result"
    }
   ],
   "source": [
    "(dataset[:, 2] / dataset[:, 1]).max()"
   ]
  },
  {
   "cell_type": "markdown",
   "metadata": {},
   "source": [
    "9. Вычислите среднее количество ингредиентов для топ-100 рецептов с наибольшей продолжительностью"
   ]
  },
  {
   "cell_type": "code",
   "execution_count": 51,
   "metadata": {},
   "outputs": [
    {
     "name": "stdout",
     "output_type": "stream",
     "text": [
      "[27451 95235  2141 67378 53610 68135   260 32405 33606 40201 28374 64150\n",
      " 67503 94179 29609 58141 57389 66458 52519 80618 62987 15594 20170 58688\n",
      " 55749 47824 86005 35863 31870 13374 14217 54083 28322 66448 44438 81672\n",
      " 17798 12396  3533 37973 76588 29439 19388 62270 25245 92739 77027 17852\n",
      " 39613 49730  7553 96659 14133 24169 73413 43472 46147 91383 71056 71064\n",
      " 14301 12331 50674 10462 27922 67144 45140 76001 71876 54674 31122  2373\n",
      " 18144 59983 56616 18907 27183 87101 78284 34013 98002 76018 37115 82026\n",
      " 26073 51129 20782 41501 27143 68221 25344 66943 10299 69212 26714 22002\n",
      " 77395 76939 39484 15653]\n"
     ]
    },
    {
     "data": {
      "text/plain": [
       "6.61"
      ]
     },
     "execution_count": 51,
     "metadata": {},
     "output_type": "execute_result"
    }
   ],
   "source": [
    "arr = dataset[:, 1].argsort()[-100:]\n",
    "#print(arr)\n",
    "dataset[arr, 2].mean()"
   ]
  },
  {
   "cell_type": "markdown",
   "metadata": {},
   "source": [
    "10. Выберите случайным образом и выведите информацию о 10 различных рецептах"
   ]
  },
  {
   "cell_type": "code",
   "execution_count": 52,
   "metadata": {},
   "outputs": [
    {
     "data": {
      "text/plain": [
       "array([[131158,     30,      8],\n",
       "       [105292,     40,     10],\n",
       "       [382269,     45,      8],\n",
       "       [210622,     10,      6],\n",
       "       [205778,     75,     10],\n",
       "       [ 35168,     80,      7],\n",
       "       [ 43802,     75,     11],\n",
       "       [481109,     20,     12],\n",
       "       [170758,     10,      6],\n",
       "       [259213,     45,     15]])"
      ]
     },
     "execution_count": 52,
     "metadata": {},
     "output_type": "execute_result"
    }
   ],
   "source": [
    "dataset[np.random.randint(0, len(dataset), 10)]"
   ]
  },
  {
   "cell_type": "markdown",
   "metadata": {},
   "source": [
    "11. Выведите процент рецептов, кол-во ингредиентов в которых меньше среднего."
   ]
  },
  {
   "cell_type": "code",
   "execution_count": 53,
   "metadata": {},
   "outputs": [
    {
     "data": {
      "text/plain": [
       "1.0"
      ]
     },
     "execution_count": 53,
     "metadata": {},
     "output_type": "execute_result"
    }
   ],
   "source": [
    "len(dataset[:, 2] < dataset[:, 2].mean()) / len(dataset)"
   ]
  },
  {
   "cell_type": "markdown",
   "metadata": {},
   "source": [
    "12. Назовем \"простым\" такой рецепт, длительность выполнения которого не больше 20 минут и кол-во ингредиентов в котором не больше 5. Создайте версию датасета с дополнительным столбцом, значениями которого являются 1, если рецепт простой, и 0 в противном случае."
   ]
  },
  {
   "cell_type": "code",
   "execution_count": 54,
   "metadata": {},
   "outputs": [],
   "source": [
    "dataset2 = np.zeros((len(dataset), 4), dtype = np.int32)\n",
    "dataset2[:, :3] = dataset\n",
    "dataset2[:, 3] = (dataset[:, 1] <= 20) & (dataset[:, 2] <= 5).astype(np.int32)"
   ]
  },
  {
   "cell_type": "markdown",
   "metadata": {},
   "source": [
    "13. Выведите процент \"простых\" рецептов в датасете"
   ]
  },
  {
   "cell_type": "code",
   "execution_count": 55,
   "metadata": {},
   "outputs": [
    {
     "data": {
      "text/plain": [
       "(0.09552, 0.90448)"
      ]
     },
     "execution_count": 55,
     "metadata": {},
     "output_type": "execute_result"
    }
   ],
   "source": [
    "ez  = (dataset2[:, -1] == 1).sum()\n",
    "ez / len(dataset2), 1 - ez / len(dataset2)"
   ]
  },
  {
   "cell_type": "markdown",
   "metadata": {},
   "source": [
    "14. Разделим рецепты на группы по следующему правилу. Назовем рецепты короткими, если их продолжительность составляет менее 10 минут; стандартными, если их продолжительность составляет более 10, но менее 20 минут; и длинными, если их продолжительность составляет не менее 20 минут. Создайте трехмерный массив, где нулевая ось отвечает за номер группы (короткий, стандартный или длинный рецепт), первая ось - за сам рецепт и вторая ось - за характеристики рецепта. Выберите максимальное количество рецептов из каждой группы таким образом, чтобы было возможно сформировать трехмерный массив. Выведите форму полученного массива."
   ]
  },
  {
   "cell_type": "code",
   "execution_count": 23,
   "metadata": {},
   "outputs": [
    {
     "data": {
      "text/plain": [
       "(3, 1074, 3)"
      ]
     },
     "execution_count": 23,
     "metadata": {},
     "output_type": "execute_result"
    }
   ],
   "source": [
    "short = dataset[dataset[:, 2] < 10]\n",
    "stardant = dataset[(dataset[:, 2] > 9) & (dataset[:, 2] < 20)]\n",
    "long = dataset[dataset[:, 2] > 19]\n",
    "mx = min(len(short), len(stardant), len(long))\n",
    "x =np.stack([short[:mx],  stardant[:mx], long[:mx]])\n",
    "x.shape"
   ]
  }
 ],
 "metadata": {
  "kernelspec": {
   "display_name": "Python 3",
   "language": "python",
   "name": "python3"
  },
  "language_info": {
   "codemirror_mode": {
    "name": "ipython",
    "version": 3
   },
   "file_extension": ".py",
   "mimetype": "text/x-python",
   "name": "python",
   "nbconvert_exporter": "python",
   "pygments_lexer": "ipython3",
   "version": "3.8.8"
  }
 },
 "nbformat": 4,
 "nbformat_minor": 4
}
